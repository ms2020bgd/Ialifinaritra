{
 "cells": [
  {
   "cell_type": "code",
   "execution_count": 22,
   "metadata": {},
   "outputs": [],
   "source": [
    "import pandas as pd\n",
    "import numpy as np\n",
    "import matplotlib.pyplot as plt\n",
    "from sklearn import linear_model\n",
    "from sklearn.linear_model import LinearRegression\n",
    "from sklearn.metrics import mean_squared_error"
   ]
  },
  {
   "cell_type": "markdown",
   "metadata": {},
   "source": [
    "Peut-on établir un lien entre la densité de médecins par spécialité et par territoire et la pratique du dépassement d'honoraires ? Est-ce dans les territoires où la densité est la plus forte que les médecins pratiquent le moins les dépassements d'honoraires ? Est-ce que la densité de certains médecins / praticiens est corrélée à la densité de population pour certaines classes d'âges (bébé/pédiatre, personnes âgées / infirmiers etc...) ?"
   ]
  },
  {
   "cell_type": "markdown",
   "metadata": {},
   "source": [
    "## 1. Loading Data: "
   ]
  },
  {
   "cell_type": "code",
   "execution_count": 45,
   "metadata": {},
   "outputs": [],
   "source": [
    "medecin = pd.read_csv('/home/rakotoniaina/TELECOM PARIS/Notebook/INFMDI721/lesson6/rpps_tab3.csv')\n",
    "population = pd.read_csv('/home/rakotoniaina/TELECOM PARIS/Notebook/INFMDI721/lesson6/pop_par_dep_par_an_regroupe.csv',sep=';')\n",
    "honoraire = pd.read_excel('/home/rakotoniaina/TELECOM PARIS/Notebook/INFMDI721/lesson6/honoraires.xls',sheet_name='Généralistes et MEP')"
   ]
  },
  {
   "cell_type": "markdown",
   "metadata": {},
   "source": [
    "## 2. Cleaning :"
   ]
  },
  {
   "cell_type": "code",
   "execution_count": 46,
   "metadata": {},
   "outputs": [],
   "source": [
    "population = population[population['annee']==2013]\n",
    "population_dep = population.drop(columns=['annee','age_max_cat','sexe']).groupby('l_dep').sum()\n"
   ]
  },
  {
   "cell_type": "code",
   "execution_count": 47,
   "metadata": {},
   "outputs": [],
   "source": [
    "medecin = medecin[medecin['annee']==2013]\n",
    "medecin = medecin[medecin.zone_inscription.str.contains(\"FRANCE\") == False]\n",
    "medecin = medecin[medecin.zone_inscription.str.contains(\"DOM-COM\") == False].drop(columns=['annee'])\n",
    "medecin = medecin[medecin.zone_inscription.str.contains(r'[0-9]') == True]\n",
    "medecin = medecin[medecin.mode_exercice.str.contains(\"Libéraux exclusifs\") == True]"
   ]
  },
  {
   "cell_type": "code",
   "execution_count": 48,
   "metadata": {},
   "outputs": [
    {
     "name": "stderr",
     "output_type": "stream",
     "text": [
      "/home/rakotoniaina/anaconda3/lib/python3.7/site-packages/ipykernel_launcher.py:4: SettingWithCopyWarning: \n",
      "A value is trying to be set on a copy of a slice from a DataFrame.\n",
      "Try using .loc[row_indexer,col_indexer] = value instead\n",
      "\n",
      "See the caveats in the documentation: http://pandas.pydata.org/pandas-docs/stable/indexing.html#indexing-view-versus-copy\n",
      "  after removing the cwd from sys.path.\n"
     ]
    }
   ],
   "source": [
    "honoraire = honoraire[honoraire['Généralistes et compétences MEP'].str.contains(\"01- Médecine générale\")]\n",
    "honoraire = honoraire[honoraire['DEPARTEMENT'].str.contains(\"TOTAL\") == False]\n",
    "honoraire_dep = honoraire[['DEPARTEMENT','DEPASSEMENTS (Euros)']]\n",
    "honoraire_dep['dep'] = honoraire['DEPARTEMENT'].str.split('- ').str[1]\n",
    "honoraire_dep = honoraire_dep.drop(columns='DEPARTEMENT')\n",
    "honoraire_dep_dep = honoraire_dep.set_index('dep')"
   ]
  },
  {
   "cell_type": "markdown",
   "metadata": {},
   "source": [
    "## 3. Analysis : "
   ]
  },
  {
   "cell_type": "markdown",
   "metadata": {},
   "source": [
    "### Médecin Généraliste:"
   ]
  },
  {
   "cell_type": "code",
   "execution_count": 49,
   "metadata": {},
   "outputs": [],
   "source": [
    "Generaliste = medecin[medecin.specialite.str.contains(\"Généralistes\") == True]"
   ]
  },
  {
   "cell_type": "code",
   "execution_count": 50,
   "metadata": {},
   "outputs": [],
   "source": [
    "Generaliste_dep = Generaliste.drop(columns=['mode_exercice','specialite'])\n",
    "Generaliste_dep['departement']=Generaliste_dep['zone_inscription'].str.split(' - ').str[1]\n",
    "Generaliste_dep = Generaliste_dep.drop(columns='zone_inscription').set_index('departement')"
   ]
  },
  {
   "cell_type": "code",
   "execution_count": 51,
   "metadata": {},
   "outputs": [],
   "source": [
    "pop_medecin = pd.concat([Generaliste_dep, population_dep,honoraire_dep_dep], axis=1, sort=False)"
   ]
  },
  {
   "cell_type": "code",
   "execution_count": 52,
   "metadata": {},
   "outputs": [],
   "source": [
    "pop_medecin['ratio'] = np.log(pop_medecin['value'] / pop_medecin['effectifs'])"
   ]
  },
  {
   "cell_type": "code",
   "execution_count": 53,
   "metadata": {},
   "outputs": [],
   "source": [
    "Depassement_dep = pop_medecin.dropna()"
   ]
  },
  {
   "cell_type": "code",
   "execution_count": 54,
   "metadata": {},
   "outputs": [
    {
     "data": {
      "text/html": [
       "<div>\n",
       "<style scoped>\n",
       "    .dataframe tbody tr th:only-of-type {\n",
       "        vertical-align: middle;\n",
       "    }\n",
       "\n",
       "    .dataframe tbody tr th {\n",
       "        vertical-align: top;\n",
       "    }\n",
       "\n",
       "    .dataframe thead th {\n",
       "        text-align: right;\n",
       "    }\n",
       "</style>\n",
       "<table border=\"1\" class=\"dataframe\">\n",
       "  <thead>\n",
       "    <tr style=\"text-align: right;\">\n",
       "      <th></th>\n",
       "      <th>effectifs</th>\n",
       "      <th>value</th>\n",
       "      <th>DEPASSEMENTS (Euros)</th>\n",
       "      <th>ratio</th>\n",
       "    </tr>\n",
       "  </thead>\n",
       "  <tbody>\n",
       "    <tr>\n",
       "      <th>Ain</th>\n",
       "      <td>422.0</td>\n",
       "      <td>619765.0</td>\n",
       "      <td>240349</td>\n",
       "      <td>7.292090</td>\n",
       "    </tr>\n",
       "    <tr>\n",
       "      <th>Aisne</th>\n",
       "      <td>386.0</td>\n",
       "      <td>540756.0</td>\n",
       "      <td>204037</td>\n",
       "      <td>7.244886</td>\n",
       "    </tr>\n",
       "    <tr>\n",
       "      <th>Allier</th>\n",
       "      <td>298.0</td>\n",
       "      <td>342780.0</td>\n",
       "      <td>17931.8</td>\n",
       "      <td>7.047751</td>\n",
       "    </tr>\n",
       "    <tr>\n",
       "      <th>Hautes-Alpes</th>\n",
       "      <td>168.0</td>\n",
       "      <td>140731.0</td>\n",
       "      <td>112825</td>\n",
       "      <td>6.730642</td>\n",
       "    </tr>\n",
       "    <tr>\n",
       "      <th>Alpes-Maritimes</th>\n",
       "      <td>1441.0</td>\n",
       "      <td>1082494.0</td>\n",
       "      <td>4.01272e+06</td>\n",
       "      <td>6.621686</td>\n",
       "    </tr>\n",
       "  </tbody>\n",
       "</table>\n",
       "</div>"
      ],
      "text/plain": [
       "                 effectifs      value DEPASSEMENTS (Euros)     ratio\n",
       "Ain                  422.0   619765.0               240349  7.292090\n",
       "Aisne                386.0   540756.0               204037  7.244886\n",
       "Allier               298.0   342780.0              17931.8  7.047751\n",
       "Hautes-Alpes         168.0   140731.0               112825  6.730642\n",
       "Alpes-Maritimes     1441.0  1082494.0          4.01272e+06  6.621686"
      ]
     },
     "execution_count": 54,
     "metadata": {},
     "output_type": "execute_result"
    }
   ],
   "source": [
    "Depassement_dep.head()"
   ]
  },
  {
   "cell_type": "code",
   "execution_count": 56,
   "metadata": {},
   "outputs": [
    {
     "data": {
      "image/png": "[encoded data removed]",
      "text/plain": [
       "<Figure size 432x288 with 1 Axes>"
      ]
     },
     "metadata": {
      "needs_background": "light"
     },
     "output_type": "display_data"
    }
   ],
   "source": [
    "X_1 = Depassement_dep[['value']]\n",
    "Y_1 = Depassement_dep[['DEPASSEMENTS (Euros)']]\n",
    "\n",
    "# Regression linéaire effectifs médecin, Dépassement honoraire\n",
    "Reg = linear_model.LinearRegression()\n",
    "model = Reg.fit(X_1,Y_1)\n",
    "\n",
    "# Création de nuage de points à partir de matplotlib\n",
    "plt.figure()\n",
    "plt.scatter(X_1, Y_1)\n",
    "plt.plot(X_1,model.predict(X_1),color ='red')\n",
    "plt.xlabel('Nb population')\n",
    "plt.ylabel('Dépassements honoraires')\n",
    "\n",
    "plt.show()"
   ]
  },
  {
   "cell_type": "code",
   "execution_count": 57,
   "metadata": {},
   "outputs": [
    {
     "data": {
      "image/png": "[encoded data removed]",
      "text/plain": [
       "<Figure size 432x288 with 1 Axes>"
      ]
     },
     "metadata": {
      "needs_background": "light"
     },
     "output_type": "display_data"
    }
   ],
   "source": [
    "X_2 = Depassement_dep[['effectifs']]\n",
    "Y_2 = Depassement_dep[['DEPASSEMENTS (Euros)']]\n",
    "\n",
    "# Regression linéaire effectifs médecin, Dépassement honoraire\n",
    "Reg = linear_model.LinearRegression()\n",
    "model_1 = Reg.fit(X_2,Y_2)\n",
    "\n",
    "# Création de nuage de points à partir de matplotlib\n",
    "plt.figure()\n",
    "plt.scatter(X_2, Y_2)\n",
    "plt.plot(X_2,model_1.predict(X_2),color ='red')\n",
    "plt.xlabel('Effectifs medecin')\n",
    "plt.ylabel('Dépassements honoraires')\n",
    "\n",
    "plt.show()"
   ]
  },
  {
   "cell_type": "markdown",
   "metadata": {},
   "source": [
    "### Anesthésie et réanimation chirugicale:"
   ]
  },
  {
   "cell_type": "code",
   "execution_count": 61,
   "metadata": {},
   "outputs": [],
   "source": [
    "Anesthesie = medecin[medecin.specialite.str.contains(\"Anesthésie-réanimation\") == True]\n",
    "Anesthesie_dep = Anesthesie.drop(columns=['mode_exercice','specialite'])\n",
    "Anesthesie_dep['departement']=Anesthesie_dep['zone_inscription'].str.split(' - ').str[1]\n",
    "Anesthesie_dep = Anesthesie_dep.drop(columns='zone_inscription').set_index('departement')"
   ]
  },
  {
   "cell_type": "code",
   "execution_count": 67,
   "metadata": {},
   "outputs": [],
   "source": [
    "honoraire_a = pd.read_excel('/home/rakotoniaina/TELECOM PARIS/Notebook/INFMDI721/lesson6/honoraires.xls',sheet_name='Spécialistes')\n",
    "honoraire_a = honoraire_a[honoraire_a['Spécialistes'].str.contains(\"02- Anesthésie-réanimation chirurgicale\")]\n",
    "honoraire_a = honoraire_a[honoraire_a['DEPARTEMENT'].str.contains(\"TOTAL\") == False]"
   ]
  },
  {
   "cell_type": "code",
   "execution_count": 68,
   "metadata": {},
   "outputs": [
    {
     "name": "stderr",
     "output_type": "stream",
     "text": [
      "/home/rakotoniaina/anaconda3/lib/python3.7/site-packages/ipykernel_launcher.py:2: SettingWithCopyWarning: \n",
      "A value is trying to be set on a copy of a slice from a DataFrame.\n",
      "Try using .loc[row_indexer,col_indexer] = value instead\n",
      "\n",
      "See the caveats in the documentation: http://pandas.pydata.org/pandas-docs/stable/indexing.html#indexing-view-versus-copy\n",
      "  \n"
     ]
    }
   ],
   "source": [
    "honoraire_a_dep = honoraire_a[['DEPARTEMENT','DEPASSEMENTS (Euros)']]\n",
    "honoraire_a_dep['dep'] = honoraire_a['DEPARTEMENT'].str.split('- ').str[1]\n",
    "honoraire_a_dep = honoraire_a_dep.drop(columns='DEPARTEMENT')\n",
    "honoraire_a_dep_dep = honoraire_a_dep.set_index('dep')"
   ]
  },
  {
   "cell_type": "code",
   "execution_count": 72,
   "metadata": {},
   "outputs": [],
   "source": [
    "pop_anesthesiste = pd.concat([Anesthesie_dep, population_dep,honoraire_a_dep_dep], axis=1, sort=False)"
   ]
  },
  {
   "cell_type": "code",
   "execution_count": 75,
   "metadata": {},
   "outputs": [],
   "source": [
    "Depassement_dep_anest = pop_anesthesiste.dropna()\n",
    "Depassement_dep_anest = Depassement_dep_anest[Depassement_dep_anest['DEPASSEMENTS (Euros)'] != 'nc']"
   ]
  },
  {
   "cell_type": "code",
   "execution_count": 78,
   "metadata": {},
   "outputs": [
    {
     "data": {
      "image/png": "[encoded data removed]",
      "text/plain": [
       "<Figure size 432x288 with 1 Axes>"
      ]
     },
     "metadata": {
      "needs_background": "light"
     },
     "output_type": "display_data"
    }
   ],
   "source": [
    "# Linear Regression : \n",
    "X_3 = Depassement_dep_anest[['value']]\n",
    "Y_3 = Depassement_dep_anest[['DEPASSEMENTS (Euros)']]\n",
    "\n",
    "# Regression linéaire effectifs médecin, Dépassement honoraire\n",
    "Reg = linear_model.LinearRegression()\n",
    "model = Reg.fit(X_3,Y_3)\n",
    "\n",
    "# Création de nuage de points à partir de matplotlib\n",
    "plt.figure()\n",
    "plt.scatter(X_3, Y_3)\n",
    "plt.plot(X_3,model.predict(X_3),color ='red')\n",
    "plt.xlabel('Nb population')\n",
    "plt.ylabel('Dépassements honoraires')\n",
    "\n",
    "plt.show()\n"
   ]
  },
  {
   "cell_type": "code",
   "execution_count": 79,
   "metadata": {},
   "outputs": [
    {
     "data": {
      "image/png": "[encoded data removed]",
      "text/plain": [
       "<Figure size 432x288 with 1 Axes>"
      ]
     },
     "metadata": {
      "needs_background": "light"
     },
     "output_type": "display_data"
    }
   ],
   "source": [
    "X_4 = Depassement_dep_anest[['effectifs']]\n",
    "Y_4 = Depassement_dep_anest[['DEPASSEMENTS (Euros)']]\n",
    "\n",
    "# Regression linéaire effectifs médecin, Dépassement honoraire\n",
    "Reg = linear_model.LinearRegression()\n",
    "model_4 = Reg.fit(X_4,Y_4)\n",
    "\n",
    "# Création de nuage de points à partir de matplotlib\n",
    "plt.figure()\n",
    "plt.scatter(X_4, Y_4)\n",
    "plt.plot(X_4,model_4.predict(X_4),color ='red')\n",
    "plt.xlabel('Effectifs medecin')\n",
    "plt.ylabel('Dépassements honoraires')\n",
    "\n",
    "plt.show()"
   ]
  },
  {
   "cell_type": "code",
   "execution_count": null,
   "metadata": {},
   "outputs": [],
   "source": []
  }
 ],
 "metadata": {
  "kernelspec": {
   "display_name": "Python 3",
   "language": "python",
   "name": "python3"
  },
  "language_info": {
   "codemirror_mode": {
    "name": "ipython",
    "version": 3
   },
   "file_extension": ".py",
   "mimetype": "text/x-python",
   "name": "python",
   "nbconvert_exporter": "python",
   "pygments_lexer": "ipython3",
   "version": "3.7.3"
  }
 },
 "nbformat": 4,
 "nbformat_minor": 2
}
